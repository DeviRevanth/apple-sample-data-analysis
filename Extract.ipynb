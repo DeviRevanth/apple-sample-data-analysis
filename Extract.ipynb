{
 "cells": [
  {
   "cell_type": "code",
   "execution_count": 0,
   "metadata": {
    "application/vnd.databricks.v1+cell": {
     "cellMetadata": {
      "byteLimit": 2048000,
      "rowLimit": 10000
     },
     "inputWidgets": {},
     "nuid": "fae9e0b0-f451-478d-9d0b-a1d01b2ab9e1",
     "showTitle": false,
     "tableResultSettingsMap": {},
     "title": ""
    }
   },
   "outputs": [],
   "source": [
    "class Extractor:\n",
    "    \"\"\"\n",
    "    Abstract Class\n",
    "    \"\"\"\n",
    "    def __init__(self,filepath,spark_session):\n",
    "        print(\"Extactor Object Initiated\")\n",
    "        self.Spark = spark_session\n",
    "        self.filepath = filepath\n",
    "        self.file_type = self.filepath.split('.')[-1]\n",
    "        self.format = {\n",
    "            \"csv\": 'csv',\n",
    "            \"parquet\": 'parquet',\n",
    "            \"json\": 'json',\n",
    "        }\n",
    "    \n",
    "    def data_extractor(self,required_options={'header':True}):\n",
    "        try:\n",
    "            print(f\"data_extractor initiated for {self.filepath}\")\n",
    "            if required_options:\n",
    "                return self.Spark.read.format(self.format[self.file_type.lower()]).options(**required_options).load(self.filepath)\n",
    "                print(\"data_extractor executed\")\n",
    "            else:\n",
    "                pring(\"data_extractor executed\")\n",
    "                return self.Spark.read.format(self.format[self.file_type.lower()]).load(self.filepath)\n",
    "        except Exception as exp:\n",
    "            print(f\"Failed to execute data_extractor with error -> {exp}\",exc_info=True)\n",
    "            raise"
   ]
  }
 ],
 "metadata": {
  "application/vnd.databricks.v1+notebook": {
   "computePreferences": null,
   "dashboards": [],
   "environmentMetadata": {
    "base_environment": "",
    "environment_version": "1"
   },
   "inputWidgetPreferences": null,
   "language": "python",
   "notebookMetadata": {
    "pythonIndentUnit": 4
   },
   "notebookName": "Extract",
   "widgets": {}
  }
 },
 "nbformat": 4,
 "nbformat_minor": 0
}