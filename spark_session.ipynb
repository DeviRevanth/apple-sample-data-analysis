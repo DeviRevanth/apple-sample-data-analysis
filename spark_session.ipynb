{
 "cells": [
  {
   "cell_type": "code",
   "execution_count": 0,
   "metadata": {
    "application/vnd.databricks.v1+cell": {
     "cellMetadata": {
      "byteLimit": 2048000,
      "rowLimit": 10000
     },
     "inputWidgets": {},
     "nuid": "fcc040ab-9400-4f4c-89b0-2a654d4404fe",
     "showTitle": false,
     "tableResultSettingsMap": {},
     "title": ""
    }
   },
   "outputs": [],
   "source": [
    "class SparkSession:\n",
    "    \"\"\"\n",
    "        Creates and returns a Spark Session once triggered\n",
    "    \"\"\"\n",
    "    def create_spark_session(self):\n",
    "        \"\"\"\n",
    "            SparkSession is created using pyspark session\n",
    "\n",
    "            Raises:\n",
    "                - Raises Exception if session creation fails.\n",
    "        \"\"\"\n",
    "        try:\n",
    "            print(\"Spark Session Initiated\")\n",
    "            from pyspark.sql import SparkSession\n",
    "            import os\n",
    "            app_name = os.path.basename(__file__) if '__file__' in globals() else 'SparkApp' # \n",
    "            return SparkSession.builder.appName(app_name).getOrCreate()\n",
    "        except Exception as exp:\n",
    "            print(f\"Failed to establish Spark Session using create_spark_session method error -> {exp}\",exc_info=True)\n",
    "            raise\n",
    "    \n",
    "    def stop_session(self,session):\n",
    "        try:\n",
    "            session.stop()\n",
    "            print(\"Spark Session has been stopped!\")\n",
    "        except Exception as exp:\n",
    "            print(f\"Failed to stop the Spark Session with error -> {exp}\",exc_info=True)\n"
   ]
  }
 ],
 "metadata": {
  "application/vnd.databricks.v1+notebook": {
   "computePreferences": null,
   "dashboards": [],
   "environmentMetadata": {
    "base_environment": "",
    "environment_version": "1"
   },
   "inputWidgetPreferences": null,
   "language": "python",
   "notebookMetadata": {
    "pythonIndentUnit": 4
   },
   "notebookName": "spark_session",
   "widgets": {}
  }
 },
 "nbformat": 4,
 "nbformat_minor": 0
}